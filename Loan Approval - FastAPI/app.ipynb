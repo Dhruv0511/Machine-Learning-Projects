{
 "cells": [
  {
   "cell_type": "code",
   "execution_count": null,
   "id": "4c2873af",
   "metadata": {},
   "outputs": [
    {
     "name": "stderr",
     "output_type": "stream",
     "text": [
      "/Users/hinalpanchal/opt/anaconda3/lib/python3.9/site-packages/scipy/__init__.py:155: UserWarning: A NumPy version >=1.18.5 and <1.25.0 is required for this version of SciPy (detected version 1.26.4\n",
      "  warnings.warn(f\"A NumPy version >={np_minversion} and <{np_maxversion}\"\n",
      "INFO:     Started server process [46064]\n",
      "INFO:     Waiting for application startup.\n",
      "INFO:     Application startup complete.\n",
      "INFO:     Uvicorn running on http://127.0.0.1:8000 (Press CTRL+C to quit)\n"
     ]
    },
    {
     "name": "stdout",
     "output_type": "stream",
     "text": [
      "INFO:     127.0.0.1:60863 - \"GET / HTTP/1.1\" 404 Not Found\n",
      "INFO:     127.0.0.1:60864 - \"GET /favicon.ico HTTP/1.1\" 404 Not Found\n",
      "INFO:     127.0.0.1:60865 - \"GET / HTTP/1.1\" 404 Not Found\n",
      "INFO:     127.0.0.1:60868 - \"GET /docs HTTP/1.1\" 200 OK\n",
      "INFO:     127.0.0.1:60868 - \"GET /openapi.json HTTP/1.1\" 200 OK\n"
     ]
    }
   ],
   "source": [
    "import nest_asyncio\n",
    "import uvicorn\n",
    "from fastapi import FastAPI\n",
    "from pydantic import BaseModel\n",
    "import joblib\n",
    "import numpy as np\n",
    "\n",
    "# Apply workaround for running async in notebook\n",
    "nest_asyncio.apply()\n",
    "\n",
    "# Define schema\n",
    "class InputData(BaseModel):\n",
    "    x1: float\n",
    "    x2: float\n",
    "    x3: float\n",
    "    x4: float\n",
    "    x5: float\n",
    "\n",
    "# Load model and scaler\n",
    "scaler = joblib.load('Scaler.pkl')\n",
    "model = joblib.load('model.pkl')\n",
    "\n",
    "# Create FastAPI app\n",
    "app = FastAPI()\n",
    "\n",
    "@app.post(\"/predict/\")\n",
    "def predict(input_data: InputData):\n",
    "    x_values = np.array([[input_data.x1, input_data.x2, input_data.x3, input_data.x4, input_data.x5]])\n",
    "    scaled = scaler.transform(x_values)\n",
    "    prediction = int(model.predict(scaled)[0])\n",
    "    return {\"prediction\": prediction}\n",
    "\n",
    "# Run server inside notebook\n",
    "uvicorn.run(app, host=\"127.0.0.1\", port=8000)\n"
   ]
  },
  {
   "cell_type": "code",
   "execution_count": null,
   "id": "a7c13911",
   "metadata": {},
   "outputs": [],
   "source": []
  }
 ],
 "metadata": {
  "kernelspec": {
   "display_name": "Python 3 (ipykernel)",
   "language": "python",
   "name": "python3"
  },
  "language_info": {
   "codemirror_mode": {
    "name": "ipython",
    "version": 3
   },
   "file_extension": ".py",
   "mimetype": "text/x-python",
   "name": "python",
   "nbconvert_exporter": "python",
   "pygments_lexer": "ipython3",
   "version": "3.9.13"
  }
 },
 "nbformat": 4,
 "nbformat_minor": 5
}
